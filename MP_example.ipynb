{
 "cells": [
  {
   "cell_type": "code",
   "execution_count": null,
   "metadata": {},
   "outputs": [],
   "source": [
    "import numpy as np\n",
    "import stumpy\n",
    "import matplotlib.pyplot as plt\n",
    "\n",
    "# Generate a synthetic time series\n",
    "np.random.seed(42)\n",
    "time_series = np.random.rand(100)\n",
    "\n",
    "# Choose a window size\n",
    "window_size = 10\n",
    "\n",
    "# Compute the Matrix Profile using STUMPY\n",
    "matrix_profile = stumpy.stump(time_series, m=window_size)\n",
    "\n",
    "# Plot the time series and Matrix Profile\n",
    "plt.figure(figsize=(12, 6))\n",
    "\n",
    "# Plot the time series\n",
    "plt.subplot(2, 1, 1)\n",
    "plt.plot(time_series, label='Time Series')\n",
    "plt.title('Original Time Series')\n",
    "plt.legend()\n",
    "\n",
    "# Plot the Matrix Profile\n",
    "plt.subplot(2, 1, 2)\n",
    "plt.plot(matrix_profile[:, 0], label='Matrix Profile')\n",
    "plt.title('Matrix Profile')\n",
    "plt.axhline(np.percentile(matrix_profile[:, 0], 95), color='red', linestyle='dashed', label='Anomaly Threshold')\n",
    "plt.legend()\n",
    "\n",
    "plt.tight_layout()\n",
    "plt.show()"
   ]
  }
 ],
 "metadata": {
  "language_info": {
   "name": "python"
  }
 },
 "nbformat": 4,
 "nbformat_minor": 2
}
